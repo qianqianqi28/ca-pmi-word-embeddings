{
 "cells": [
  {
   "cell_type": "code",
   "execution_count": 1,
   "id": "e93277a5",
   "metadata": {},
   "outputs": [],
   "source": [
    "from collections import Counter\n",
    "from math import sqrt\n",
    "from random import Random\n",
    "from nltk.corpus import stopwords\n",
    "from nltk.stem import WordNetLemmatizer\n",
    "from nltk.stem.porter import PorterStemmer\n",
    "from nltk.tokenize import word_tokenize, sent_tokenize\n",
    "import string\n",
    "import re\n",
    "import numpy as np\n",
    "from scipy.sparse import csr_matrix\n",
    "from scipy.sparse import csc_matrix\n",
    "from scipy.sparse import lil_matrix\n",
    "from scipy.sparse.linalg import svds\n",
    "#from scipy.stats.stats import spearmanr\n",
    "from scipy.stats import spearmanr\n",
    "from random import shuffle\n",
    "import math\n",
    "import random\n",
    "from numpy import *\n",
    "import pandas as pd\n",
    "import matplotlib.pyplot as plt\n",
    "import datetime\n",
    "from datetime import datetime\n",
    "#from sparsesvd import sparsesvd\n",
    "from numpy.linalg import matrix_rank\n",
    "from scipy.stats import chi2_contingency\n",
    "from matplotlib.pyplot import *"
   ]
  },
  {
   "cell_type": "code",
   "execution_count": 2,
   "id": "fbb8fe7e",
   "metadata": {},
   "outputs": [],
   "source": [
    "def read_vocab(corpus_file, thr):\n",
    "    vocab = Counter()\n",
    "    for line in corpus_file:\n",
    "        vocab.update(Counter(line.strip().split()))\n",
    "    vocab_pre = dict([(token, count) for token, count in vocab.items() if count >= thr])\n",
    "    return {token: (i, count) for i, (token, count) in enumerate(vocab_pre.items())}\n",
    "\n",
    "def build_cooccur(vocab, corpus_pre, win = 2):\n",
    "    \n",
    "    cooccur =  lil_matrix((len(vocab), len(vocab)), dtype=np.float64)\n",
    "    \n",
    "    for line in corpus_pre:\n",
    "        tokens = [t for t in line.strip().split() if t in vocab]\n",
    "        len_tokens = len(tokens)\n",
    "        #print(tokens)\n",
    "        \n",
    "        for i, tok in enumerate(tokens):\n",
    "            #print(i)\n",
    "            #print(tok)\n",
    "            \n",
    "            start = max(0, i - win)\n",
    "            end = min(len_tokens, i + win + 1)\n",
    "            for j in range(start, end):\n",
    "                if j != i:\n",
    "                    distance = np.absolute(j-i)\n",
    "                    increment = 1.0 / float(distance)\n",
    "                    #increment = 1.0\n",
    "                    cooccur[vocab[tok][0], vocab[tokens[j]][0]] += increment\n",
    "    return cooccur"
   ]
  },
  {
   "cell_type": "code",
   "execution_count": 3,
   "id": "b61d4e66",
   "metadata": {},
   "outputs": [],
   "source": [
    "#create the word-context matrix of text8\n",
    "corpus_file = \"D:\\\\carme\\\\text8\\\\text8\\\\text8\"\n",
    "\n",
    "corpus = []\n",
    "with open(corpus_file) as f:\n",
    "    for line in f:\n",
    "        corpus.append(line)\n",
    "\n",
    "\n",
    "thr = 100\n",
    "win = 2\n",
    "vocab = read_vocab(corpus, thr)\n",
    "cooccur_sparse = build_cooccur(vocab, corpus, win)\n",
    "\n",
    "def check_symmetric(a, tol=1e-8):\n",
    "    return np.all(np.abs(a-a.T) < tol)\n",
    "cooccur_dense = cooccur_sparse.todense()\n",
    "check_symmetric(cooccur_dense)\n",
    "\n",
    "\n",
    "text8_rank = matrix_rank(cooccur_dense)\n",
    "text8_rank\n",
    "np.save(\"D:\\\\carme\\\\text8\\\\decomposed matrix\\\\cooccur_sparse\", cooccur_sparse)\n",
    "np.save(\"D:\\\\carme\\\\text8\\\\decomposed matrix\\\\vocab\", vocab)\n",
    "np.save(\"D:\\\\carme\\\\text8\\\\decomposed matrix\\\\cooccur_dense\", cooccur_dense)"
   ]
  },
  {
   "cell_type": "code",
   "execution_count": 4,
   "id": "07999b26",
   "metadata": {},
   "outputs": [
    {
     "name": "stdout",
     "output_type": "stream",
     "text": [
      "11815\n"
     ]
    }
   ],
   "source": [
    "print(text8_rank)"
   ]
  },
  {
   "cell_type": "code",
   "execution_count": 5,
   "id": "5761075a",
   "metadata": {},
   "outputs": [
    {
     "name": "stdout",
     "output_type": "stream",
     "text": [
      "True\n"
     ]
    }
   ],
   "source": [
    "print(check_symmetric(cooccur_dense))"
   ]
  },
  {
   "cell_type": "code",
   "execution_count": 6,
   "id": "e3da14f4",
   "metadata": {},
   "outputs": [
    {
     "data": {
      "text/plain": [
       "matrix([[2.100e+01, 1.000e+00, 2.200e+01, ..., 0.000e+00, 0.000e+00,\n",
       "         0.000e+00],\n",
       "        [1.000e+00, 0.000e+00, 5.900e+01, ..., 0.000e+00, 0.000e+00,\n",
       "         0.000e+00],\n",
       "        [2.200e+01, 5.900e+01, 9.282e+03, ..., 4.000e+00, 0.000e+00,\n",
       "         2.500e+00],\n",
       "        ...,\n",
       "        [0.000e+00, 0.000e+00, 4.000e+00, ..., 3.000e+00, 0.000e+00,\n",
       "         0.000e+00],\n",
       "        [0.000e+00, 0.000e+00, 0.000e+00, ..., 0.000e+00, 8.900e+01,\n",
       "         0.000e+00],\n",
       "        [0.000e+00, 0.000e+00, 2.500e+00, ..., 0.000e+00, 0.000e+00,\n",
       "         0.000e+00]])"
      ]
     },
     "execution_count": 6,
     "metadata": {},
     "output_type": "execute_result"
    }
   ],
   "source": [
    "cooccur_dense"
   ]
  },
  {
   "cell_type": "code",
   "execution_count": 7,
   "id": "4f530f67",
   "metadata": {},
   "outputs": [
    {
     "data": {
      "text/plain": [
       "<11815x11815 sparse matrix of type '<class 'numpy.float64'>'\n",
       "\twith 8154924 stored elements in List of Lists format>"
      ]
     },
     "execution_count": 7,
     "metadata": {},
     "output_type": "execute_result"
    }
   ],
   "source": [
    "cooccur_sparse"
   ]
  }
 ],
 "metadata": {
  "kernelspec": {
   "display_name": "Python 3 (ipykernel)",
   "language": "python",
   "name": "python3"
  },
  "language_info": {
   "codemirror_mode": {
    "name": "ipython",
    "version": 3
   },
   "file_extension": ".py",
   "mimetype": "text/x-python",
   "name": "python",
   "nbconvert_exporter": "python",
   "pygments_lexer": "ipython3",
   "version": "3.11.4"
  }
 },
 "nbformat": 4,
 "nbformat_minor": 5
}
